{
  "cells": [
    {
      "cell_type": "markdown",
      "metadata": {
        "id": "ClCxzfDun207"
      },
      "source": [
        "# **Project-Based Assignment CLO-4 Machine Learning**\n",
        "\n",
        "Topik : Apartment For Rent Classified"
      ]
    },
    {
      "cell_type": "markdown",
      "metadata": {
        "id": "gkf6k42CoKGV"
      },
      "source": [
        "Anggota Kelompok :\n",
        "1. Afra Mahendra Prasetyawati (1301213170)\n",
        "2. Diah Ayu Lestari (1301210549)\n",
        "3. Kayyisa Zulfa Mustafida (130121307)"
      ]
    },
    {
      "cell_type": "markdown",
      "metadata": {
        "id": "VrHUuBZkoMvn"
      },
      "source": [
        "## **Latar Belakang**\n",
        "\n",
        "Pada project CLO 4 klasifikasi, kami mendapatkan \"Dataset of classified for apartments for rent in USA\". Pada dataset ini beirisikan informasi mengenai apartemen yang tersedia untuk disewa di berbagai wilayah Amerika Serikat. Dataset ini mencakup detail tentang lokasi, harga sewa, deskripsi gambar, informasi kontak tanggal posting, dan luas area apartemen.\n",
        "\n",
        "Penerapan model Random Forest pada \"Dataset of classified for apartments for rent in USA\" membantu dalam analisis luas area apartemen berdasarkan fitur-fitur yang terdapat dalam dataset tersebut. Model ini memungkinkan pengelompokan yang lebih akurat berdasarkan karakteristik yang beragam, meningkatkan pemahaman terhadap hubungan antara fitur-fitur tersebut dalam konteks persewaan apartemen di Amerika Serikat.\n",
        "\n"
      ]
    },
    {
      "cell_type": "markdown",
      "metadata": {
        "id": "BPxTyBvUo4RX"
      },
      "source": [
        "### **Import Library & Dataset**"
      ]
    },
    {
      "cell_type": "code",
      "execution_count": null,
      "metadata": {
        "id": "q3wWhU58Jnaa"
      },
      "outputs": [],
      "source": [
        "import pandas as pd\n",
        "import numpy as np\n",
        "import math\n",
        "import matplotlib.pyplot as plt\n",
        "import seaborn as sns\n",
        "from sklearn.linear_model import LinearRegression\n",
        "from sklearn.preprocessing import StandardScaler\n",
        "from sklearn.model_selection import train_test_split\n",
        "from keras.models import Sequential\n",
        "from keras.layers import Dense\n",
        "from sklearn.ensemble import RandomForestClassifier\n",
        "import random\n",
        "from sklearn.metrics import accuracy_score"
      ]
    },
    {
      "cell_type": "code",
      "execution_count": null,
      "metadata": {
        "id": "BHGXQgGPJwX-"
      },
      "outputs": [],
      "source": [
        "#Load data\n",
        "#df1 = pd.read_csv(\"apartments_for_rent_classified_100K.csv\", sep=\";\", encoding='cp1252')\n",
        "#df1"
      ]
    },
    {
      "cell_type": "code",
      "execution_count": null,
      "metadata": {
        "colab": {
          "base_uri": "https://localhost:8080/",
          "height": 463
        },
        "id": "Y08mHwJJ4pJO",
        "outputId": "3b079d34-029c-48d5-89e9-3361a34abdce"
      },
      "outputs": [
        {
          "output_type": "execute_result",
          "data": {
            "text/plain": [
              "Empty DataFrame\n",
              "Columns: [<!DOCTYPE html><html><head><title>Google Drive - Virus scan warning</title><meta http-equiv=\"content-type\" content=\"text/html,  charset=utf-8\"/><style nonce=\"qUSyvEpz_q4N6gGYSSGtKA\">.goog-link-button{position:relative, color:#15c, text-decoration:underline, cursor:pointer}.goog-link-button-disabled{color:#ccc, text-decoration:none, cursor:default}body{color:#222, font:normal 13px/1.4 arial,sans-serif, margin:0}.grecaptcha-badge{visibility:hidden}.uc-main{padding-top:50px, text-align:center}#uc-dl-icon{display:inline-block, margin-top:16px, padding-right:1em, vertical-align:top}#uc-text{display:inline-block, max-width:68ex, text-align:left}.uc-error-caption,.uc-warning-caption{color:#222, font-size:16px}#uc-download-link{text-decoration:none}.uc-name-size a{color:#15c, text-decoration:none}.uc-name-size a:visited{color:#61c, text-decoration:none}.uc-name-size a:active{color:#d14836, text-decoration:none}.uc-footer{color:#777, font-size:11px, padding-bottom:5ex, padding-top:5ex, text-align:center}.uc-footer a{color:#15c}.uc-footer a:visited{color:#61c}.uc-footer a:active{color:#d14836}.uc-footer-divider{color:#ccc, width:100%}.goog-inline-block{position:relative, display:-moz-inline-box, display:inline-block}* html .goog-inline-block{display:inline}*:first-child+html .goog-inline-block{display:inline}sentinel{}</style><link rel=\"icon\" href=\"//ssl.gstatic.com/docs/doclist/images/drive_2022q3_32dp.png\"/></head><body><div class=\"uc-main\"><div id=\"uc-dl-icon\" class=\"image-container\"><div class=\"drive-sprite-aux-download-file\"></div></div><div id=\"uc-text\"><p class=\"uc-warning-caption\">Google Drive can't scan this file for viruses.</p><p class=\"uc-warning-subcaption\">We are experiencing technical difficulties. Would you still like to download this file? <span class=\"uc-name-size\"><a href=\"/open?id=1vicMzEfrLeg_0b6ulfPnfD8Oia9vdR-0\">apartments_for_rent_classified_100K.csv</a> (97M)</span></p><form id=\"download-form\" action=\"https://drive.google.com/uc?id=1vicMzEfrLeg_0b6ulfPnfD8Oia9vdR-0&amp, confirm=t&amp, uuid=f2ef9515-c37d-4f71-9b91-26dd9065a4a5\" method=\"post\"><input type=\"submit\" id=\"uc-download-link\" class=\"goog-inline-block jfk-button jfk-button-action\" value=\"Download anyway\"/></form></div></div><div class=\"uc-footer\"><hr class=\"uc-footer-divider\"></div></body></html>]\n",
              "Index: []\n",
              "\n",
              "[0 rows x 28 columns]"
            ],
            "text/html": [
              "\n",
              "  <div id=\"df-2d45072c-0c74-4a91-9cdf-dffcfcedbd1d\" class=\"colab-df-container\">\n",
              "    <div>\n",
              "<style scoped>\n",
              "    .dataframe tbody tr th:only-of-type {\n",
              "        vertical-align: middle;\n",
              "    }\n",
              "\n",
              "    .dataframe tbody tr th {\n",
              "        vertical-align: top;\n",
              "    }\n",
              "\n",
              "    .dataframe thead th {\n",
              "        text-align: right;\n",
              "    }\n",
              "</style>\n",
              "<table border=\"1\" class=\"dataframe\">\n",
              "  <thead>\n",
              "    <tr style=\"text-align: right;\">\n",
              "      <th></th>\n",
              "      <th>&lt;!DOCTYPE html&gt;&lt;html&gt;&lt;head&gt;&lt;title&gt;Google Drive - Virus scan warning&lt;/title&gt;&lt;meta http-equiv=\"content-type\" content=\"text/html</th>\n",
              "      <th>charset=utf-8\"/&gt;&lt;style nonce=\"qUSyvEpz_q4N6gGYSSGtKA\"&gt;.goog-link-button{position:relative</th>\n",
              "      <th>color:#15c</th>\n",
              "      <th>text-decoration:underline</th>\n",
              "      <th>cursor:pointer}.goog-link-button-disabled{color:#ccc</th>\n",
              "      <th>text-decoration:none</th>\n",
              "      <th>cursor:default}body{color:#222</th>\n",
              "      <th>font:normal 13px/1.4 arial,sans-serif</th>\n",
              "      <th>margin:0}.grecaptcha-badge{visibility:hidden}.uc-main{padding-top:50px</th>\n",
              "      <th>text-align:center}#uc-dl-icon{display:inline-block</th>\n",
              "      <th>...</th>\n",
              "      <th>text-decoration:none}.uc-footer{color:#777</th>\n",
              "      <th>font-size:11px</th>\n",
              "      <th>padding-bottom:5ex</th>\n",
              "      <th>padding-top:5ex</th>\n",
              "      <th>text-align:center}.uc-footer a{color:#15c}.uc-footer a:visited{color:#61c}.uc-footer a:active{color:#d14836}.uc-footer-divider{color:#ccc</th>\n",
              "      <th>width:100%}.goog-inline-block{position:relative</th>\n",
              "      <th>display:-moz-inline-box</th>\n",
              "      <th>display:inline-block}* html .goog-inline-block{display:inline}*:first-child+html .goog-inline-block{display:inline}sentinel{}&lt;/style&gt;&lt;link rel=\"icon\" href=\"//ssl.gstatic.com/docs/doclist/images/drive_2022q3_32dp.png\"/&gt;&lt;/head&gt;&lt;body&gt;&lt;div class=\"uc-main\"&gt;&lt;div id=\"uc-dl-icon\" class=\"image-container\"&gt;&lt;div class=\"drive-sprite-aux-download-file\"&gt;&lt;/div&gt;&lt;/div&gt;&lt;div id=\"uc-text\"&gt;&lt;p class=\"uc-warning-caption\"&gt;Google Drive can't scan this file for viruses.&lt;/p&gt;&lt;p class=\"uc-warning-subcaption\"&gt;We are experiencing technical difficulties. Would you still like to download this file? &lt;span class=\"uc-name-size\"&gt;&lt;a href=\"/open?id=1vicMzEfrLeg_0b6ulfPnfD8Oia9vdR-0\"&gt;apartments_for_rent_classified_100K.csv&lt;/a&gt; (97M)&lt;/span&gt;&lt;/p&gt;&lt;form id=\"download-form\" action=\"https://drive.google.com/uc?id=1vicMzEfrLeg_0b6ulfPnfD8Oia9vdR-0&amp;amp</th>\n",
              "      <th>confirm=t&amp;amp</th>\n",
              "      <th>uuid=f2ef9515-c37d-4f71-9b91-26dd9065a4a5\" method=\"post\"&gt;&lt;input type=\"submit\" id=\"uc-download-link\" class=\"goog-inline-block jfk-button jfk-button-action\" value=\"Download anyway\"/&gt;&lt;/form&gt;&lt;/div&gt;&lt;/div&gt;&lt;div class=\"uc-footer\"&gt;&lt;hr class=\"uc-footer-divider\"&gt;&lt;/div&gt;&lt;/body&gt;&lt;/html&gt;</th>\n",
              "    </tr>\n",
              "  </thead>\n",
              "  <tbody>\n",
              "  </tbody>\n",
              "</table>\n",
              "<p>0 rows × 28 columns</p>\n",
              "</div>\n",
              "    <div class=\"colab-df-buttons\">\n",
              "\n",
              "  <div class=\"colab-df-container\">\n",
              "    <button class=\"colab-df-convert\" onclick=\"convertToInteractive('df-2d45072c-0c74-4a91-9cdf-dffcfcedbd1d')\"\n",
              "            title=\"Convert this dataframe to an interactive table.\"\n",
              "            style=\"display:none;\">\n",
              "\n",
              "  <svg xmlns=\"http://www.w3.org/2000/svg\" height=\"24px\" viewBox=\"0 -960 960 960\">\n",
              "    <path d=\"M120-120v-720h720v720H120Zm60-500h600v-160H180v160Zm220 220h160v-160H400v160Zm0 220h160v-160H400v160ZM180-400h160v-160H180v160Zm440 0h160v-160H620v160ZM180-180h160v-160H180v160Zm440 0h160v-160H620v160Z\"/>\n",
              "  </svg>\n",
              "    </button>\n",
              "\n",
              "  <style>\n",
              "    .colab-df-container {\n",
              "      display:flex;\n",
              "      gap: 12px;\n",
              "    }\n",
              "\n",
              "    .colab-df-convert {\n",
              "      background-color: #E8F0FE;\n",
              "      border: none;\n",
              "      border-radius: 50%;\n",
              "      cursor: pointer;\n",
              "      display: none;\n",
              "      fill: #1967D2;\n",
              "      height: 32px;\n",
              "      padding: 0 0 0 0;\n",
              "      width: 32px;\n",
              "    }\n",
              "\n",
              "    .colab-df-convert:hover {\n",
              "      background-color: #E2EBFA;\n",
              "      box-shadow: 0px 1px 2px rgba(60, 64, 67, 0.3), 0px 1px 3px 1px rgba(60, 64, 67, 0.15);\n",
              "      fill: #174EA6;\n",
              "    }\n",
              "\n",
              "    .colab-df-buttons div {\n",
              "      margin-bottom: 4px;\n",
              "    }\n",
              "\n",
              "    [theme=dark] .colab-df-convert {\n",
              "      background-color: #3B4455;\n",
              "      fill: #D2E3FC;\n",
              "    }\n",
              "\n",
              "    [theme=dark] .colab-df-convert:hover {\n",
              "      background-color: #434B5C;\n",
              "      box-shadow: 0px 1px 3px 1px rgba(0, 0, 0, 0.15);\n",
              "      filter: drop-shadow(0px 1px 2px rgba(0, 0, 0, 0.3));\n",
              "      fill: #FFFFFF;\n",
              "    }\n",
              "  </style>\n",
              "\n",
              "    <script>\n",
              "      const buttonEl =\n",
              "        document.querySelector('#df-2d45072c-0c74-4a91-9cdf-dffcfcedbd1d button.colab-df-convert');\n",
              "      buttonEl.style.display =\n",
              "        google.colab.kernel.accessAllowed ? 'block' : 'none';\n",
              "\n",
              "      async function convertToInteractive(key) {\n",
              "        const element = document.querySelector('#df-2d45072c-0c74-4a91-9cdf-dffcfcedbd1d');\n",
              "        const dataTable =\n",
              "          await google.colab.kernel.invokeFunction('convertToInteractive',\n",
              "                                                    [key], {});\n",
              "        if (!dataTable) return;\n",
              "\n",
              "        const docLinkHtml = 'Like what you see? Visit the ' +\n",
              "          '<a target=\"_blank\" href=https://colab.research.google.com/notebooks/data_table.ipynb>data table notebook</a>'\n",
              "          + ' to learn more about interactive tables.';\n",
              "        element.innerHTML = '';\n",
              "        dataTable['output_type'] = 'display_data';\n",
              "        await google.colab.output.renderOutput(dataTable, element);\n",
              "        const docLink = document.createElement('div');\n",
              "        docLink.innerHTML = docLinkHtml;\n",
              "        element.appendChild(docLink);\n",
              "      }\n",
              "    </script>\n",
              "  </div>\n",
              "\n",
              "    </div>\n",
              "  </div>\n"
            ]
          },
          "metadata": {},
          "execution_count": 9
        }
      ],
      "source": [
        "#Load data\n",
        "url = 'https://drive.google.com/uc?id='+'1vicMzEfrLeg_0b6ulfPnfD8Oia9vdR-0'\n",
        "df1= pd.read_csv(url, sep=\";\", encoding='cp1252')\n",
        "df1"
      ]
    },
    {
      "cell_type": "markdown",
      "metadata": {
        "id": "3hLuqtKOqLb5"
      },
      "source": [
        "### **Ringkasan Metode**\n",
        "\n",
        "Dalam mengembangkan model, kami memutuskan untuk menggunakan metode Random Forest sebagai pendekatan utama. Pilihan ini didasarkan pada sifat dataset Apartment For Rent Classified yang mencakup kombinasi data numerik dan kategorik dengan dimensi yang cukup besar. Model Random Forest terbukti efektif dalam menangani kompleksitas data tersebut, dan memungkinkan kami untuk melakukan prediksi dengan tingkat akurasi yang optimal terhadap berbagai fitur dalam kategori penyewaan apartemen."
      ]
    },
    {
      "cell_type": "markdown",
      "metadata": {
        "id": "MaLcfW1PJ2Mx"
      },
      "source": [
        "### **Preprocessing**"
      ]
    },
    {
      "cell_type": "code",
      "execution_count": null,
      "metadata": {
        "colab": {
          "base_uri": "https://localhost:8080/"
        },
        "id": "Q56UuAdKJyaD",
        "outputId": "95c934f0-b774-4ef5-cca9-662f37135677"
      },
      "outputs": [
        {
          "output_type": "stream",
          "name": "stdout",
          "text": [
            "<class 'pandas.core.frame.DataFrame'>\n",
            "Index: 0 entries\n",
            "Data columns (total 28 columns):\n",
            " #   Column                                                                                                                                                                                                                                                                                                                                                                                                                                                                                                                                                                                                                                                                                                                                                                                                                                         Non-Null Count  Dtype \n",
            "---  ------                                                                                                                                                                                                                                                                                                                                                                                                                                                                                                                                                                                                                                                                                                                                                                                                                                         --------------  ----- \n",
            " 0   <!DOCTYPE html><html><head><title>Google Drive - Virus scan warning</title><meta http-equiv=\"content-type\" content=\"text/html                                                                                                                                                                                                                                                                                                                                                                                                                                                                                                                                                                                                                                                                                                                  0 non-null      object\n",
            " 1    charset=utf-8\"/><style nonce=\"qUSyvEpz_q4N6gGYSSGtKA\">.goog-link-button{position:relative                                                                                                                                                                                                                                                                                                                                                                                                                                                                                                                                                                                                                                                                                                                                                     0 non-null      object\n",
            " 2   color:#15c                                                                                                                                                                                                                                                                                                                                                                                                                                                                                                                                                                                                                                                                                                                                                                                                                                     0 non-null      object\n",
            " 3   text-decoration:underline                                                                                                                                                                                                                                                                                                                                                                                                                                                                                                                                                                                                                                                                                                                                                                                                                      0 non-null      object\n",
            " 4   cursor:pointer}.goog-link-button-disabled{color:#ccc                                                                                                                                                                                                                                                                                                                                                                                                                                                                                                                                                                                                                                                                                                                                                                                           0 non-null      object\n",
            " 5   text-decoration:none                                                                                                                                                                                                                                                                                                                                                                                                                                                                                                                                                                                                                                                                                                                                                                                                                           0 non-null      object\n",
            " 6   cursor:default}body{color:#222                                                                                                                                                                                                                                                                                                                                                                                                                                                                                                                                                                                                                                                                                                                                                                                                                 0 non-null      object\n",
            " 7   font:normal 13px/1.4 arial,sans-serif                                                                                                                                                                                                                                                                                                                                                                                                                                                                                                                                                                                                                                                                                                                                                                                                          0 non-null      object\n",
            " 8   margin:0}.grecaptcha-badge{visibility:hidden}.uc-main{padding-top:50px                                                                                                                                                                                                                                                                                                                                                                                                                                                                                                                                                                                                                                                                                                                                                                         0 non-null      object\n",
            " 9   text-align:center}#uc-dl-icon{display:inline-block                                                                                                                                                                                                                                                                                                                                                                                                                                                                                                                                                                                                                                                                                                                                                                                             0 non-null      object\n",
            " 10  margin-top:16px                                                                                                                                                                                                                                                                                                                                                                                                                                                                                                                                                                                                                                                                                                                                                                                                                                0 non-null      object\n",
            " 11  padding-right:1em                                                                                                                                                                                                                                                                                                                                                                                                                                                                                                                                                                                                                                                                                                                                                                                                                              0 non-null      object\n",
            " 12  vertical-align:top}#uc-text{display:inline-block                                                                                                                                                                                                                                                                                                                                                                                                                                                                                                                                                                                                                                                                                                                                                                                               0 non-null      object\n",
            " 13  max-width:68ex                                                                                                                                                                                                                                                                                                                                                                                                                                                                                                                                                                                                                                                                                                                                                                                                                                 0 non-null      object\n",
            " 14  text-align:left}.uc-error-caption,.uc-warning-caption{color:#222                                                                                                                                                                                                                                                                                                                                                                                                                                                                                                                                                                                                                                                                                                                                                                               0 non-null      object\n",
            " 15  font-size:16px}#uc-download-link{text-decoration:none}.uc-name-size a{color:#15c                                                                                                                                                                                                                                                                                                                                                                                                                                                                                                                                                                                                                                                                                                                                                               0 non-null      object\n",
            " 16  text-decoration:none}.uc-name-size a:visited{color:#61c                                                                                                                                                                                                                                                                                                                                                                                                                                                                                                                                                                                                                                                                                                                                                                                        0 non-null      object\n",
            " 17  text-decoration:none}.uc-name-size a:active{color:#d14836                                                                                                                                                                                                                                                                                                                                                                                                                                                                                                                                                                                                                                                                                                                                                                                      0 non-null      object\n",
            " 18  text-decoration:none}.uc-footer{color:#777                                                                                                                                                                                                                                                                                                                                                                                                                                                                                                                                                                                                                                                                                                                                                                                                     0 non-null      object\n",
            " 19  font-size:11px                                                                                                                                                                                                                                                                                                                                                                                                                                                                                                                                                                                                                                                                                                                                                                                                                                 0 non-null      object\n",
            " 20  padding-bottom:5ex                                                                                                                                                                                                                                                                                                                                                                                                                                                                                                                                                                                                                                                                                                                                                                                                                             0 non-null      object\n",
            " 21  padding-top:5ex                                                                                                                                                                                                                                                                                                                                                                                                                                                                                                                                                                                                                                                                                                                                                                                                                                0 non-null      object\n",
            " 22  text-align:center}.uc-footer a{color:#15c}.uc-footer a:visited{color:#61c}.uc-footer a:active{color:#d14836}.uc-footer-divider{color:#ccc                                                                                                                                                                                                                                                                                                                                                                                                                                                                                                                                                                                                                                                                                                      0 non-null      object\n",
            " 23  width:100%}.goog-inline-block{position:relative                                                                                                                                                                                                                                                                                                                                                                                                                                                                                                                                                                                                                                                                                                                                                                                                0 non-null      object\n",
            " 24  display:-moz-inline-box                                                                                                                                                                                                                                                                                                                                                                                                                                                                                                                                                                                                                                                                                                                                                                                                                        0 non-null      object\n",
            " 25  display:inline-block}* html .goog-inline-block{display:inline}*:first-child+html .goog-inline-block{display:inline}sentinel{}</style><link rel=\"icon\" href=\"//ssl.gstatic.com/docs/doclist/images/drive_2022q3_32dp.png\"/></head><body><div class=\"uc-main\"><div id=\"uc-dl-icon\" class=\"image-container\"><div class=\"drive-sprite-aux-download-file\"></div></div><div id=\"uc-text\"><p class=\"uc-warning-caption\">Google Drive can't scan this file for viruses.</p><p class=\"uc-warning-subcaption\">We are experiencing technical difficulties. Would you still like to download this file? <span class=\"uc-name-size\"><a href=\"/open?id=1vicMzEfrLeg_0b6ulfPnfD8Oia9vdR-0\">apartments_for_rent_classified_100K.csv</a> (97M)</span></p><form id=\"download-form\" action=\"https://drive.google.com/uc?id=1vicMzEfrLeg_0b6ulfPnfD8Oia9vdR-0&amp  0 non-null      object\n",
            " 26  confirm=t&amp                                                                                                                                                                                                                                                                                                                                                                                                                                                                                                                                                                                                                                                                                                                                                                                                                                  0 non-null      object\n",
            " 27  uuid=f2ef9515-c37d-4f71-9b91-26dd9065a4a5\" method=\"post\"><input type=\"submit\" id=\"uc-download-link\" class=\"goog-inline-block jfk-button jfk-button-action\" value=\"Download anyway\"/></form></div></div><div class=\"uc-footer\"><hr class=\"uc-footer-divider\"></div></body></html>                                                                                                                                                                                                                                                                                                                                                                                                                                                                                                                                                               0 non-null      object\n",
            "dtypes: object(28)\n",
            "memory usage: 0.0+ bytes\n"
          ]
        }
      ],
      "source": [
        "df1.info()"
      ]
    },
    {
      "cell_type": "code",
      "execution_count": null,
      "metadata": {
        "colab": {
          "base_uri": "https://localhost:8080/",
          "height": 588
        },
        "id": "2duVZmn3J36F",
        "outputId": "84944175-ac09-428a-d980-1f120c775fb7"
      },
      "outputs": [
        {
          "output_type": "execute_result",
          "data": {
            "text/plain": [
              "       <!DOCTYPE html><html><head><title>Google Drive - Virus scan warning</title><meta http-equiv=\"content-type\" content=\"text/html  \\\n",
              "count                                                   0                                                                              \n",
              "unique                                                  0                                                                              \n",
              "top                                                   NaN                                                                              \n",
              "freq                                                  NaN                                                                              \n",
              "\n",
              "        charset=utf-8\"/><style nonce=\"qUSyvEpz_q4N6gGYSSGtKA\">.goog-link-button{position:relative  \\\n",
              "count                                                   0                                           \n",
              "unique                                                  0                                           \n",
              "top                                                   NaN                                           \n",
              "freq                                                  NaN                                           \n",
              "\n",
              "       color:#15c text-decoration:underline  \\\n",
              "count           0                         0   \n",
              "unique          0                         0   \n",
              "top           NaN                       NaN   \n",
              "freq          NaN                       NaN   \n",
              "\n",
              "       cursor:pointer}.goog-link-button-disabled{color:#ccc  \\\n",
              "count                                                   0     \n",
              "unique                                                  0     \n",
              "top                                                   NaN     \n",
              "freq                                                  NaN     \n",
              "\n",
              "       text-decoration:none cursor:default}body{color:#222  \\\n",
              "count                     0                              0   \n",
              "unique                    0                              0   \n",
              "top                     NaN                            NaN   \n",
              "freq                    NaN                            NaN   \n",
              "\n",
              "       font:normal 13px/1.4 arial,sans-serif  \\\n",
              "count                                      0   \n",
              "unique                                     0   \n",
              "top                                      NaN   \n",
              "freq                                     NaN   \n",
              "\n",
              "       margin:0}.grecaptcha-badge{visibility:hidden}.uc-main{padding-top:50px  \\\n",
              "count                                                   0                       \n",
              "unique                                                  0                       \n",
              "top                                                   NaN                       \n",
              "freq                                                  NaN                       \n",
              "\n",
              "       text-align:center}#uc-dl-icon{display:inline-block  ...  \\\n",
              "count                                                   0  ...   \n",
              "unique                                                  0  ...   \n",
              "top                                                   NaN  ...   \n",
              "freq                                                  NaN  ...   \n",
              "\n",
              "       text-decoration:none}.uc-footer{color:#777 font-size:11px  \\\n",
              "count                                           0              0   \n",
              "unique                                          0              0   \n",
              "top                                           NaN            NaN   \n",
              "freq                                          NaN            NaN   \n",
              "\n",
              "       padding-bottom:5ex padding-top:5ex  \\\n",
              "count                   0               0   \n",
              "unique                  0               0   \n",
              "top                   NaN             NaN   \n",
              "freq                  NaN             NaN   \n",
              "\n",
              "       text-align:center}.uc-footer a{color:#15c}.uc-footer a:visited{color:#61c}.uc-footer a:active{color:#d14836}.uc-footer-divider{color:#ccc  \\\n",
              "count                                                   0                                                                                          \n",
              "unique                                                  0                                                                                          \n",
              "top                                                   NaN                                                                                          \n",
              "freq                                                  NaN                                                                                          \n",
              "\n",
              "       width:100%}.goog-inline-block{position:relative  \\\n",
              "count                                                0   \n",
              "unique                                               0   \n",
              "top                                                NaN   \n",
              "freq                                               NaN   \n",
              "\n",
              "       display:-moz-inline-box  \\\n",
              "count                        0   \n",
              "unique                       0   \n",
              "top                        NaN   \n",
              "freq                       NaN   \n",
              "\n",
              "       display:inline-block}* html .goog-inline-block{display:inline}*:first-child+html .goog-inline-block{display:inline}sentinel{}</style><link rel=\"icon\" href=\"//ssl.gstatic.com/docs/doclist/images/drive_2022q3_32dp.png\"/></head><body><div class=\"uc-main\"><div id=\"uc-dl-icon\" class=\"image-container\"><div class=\"drive-sprite-aux-download-file\"></div></div><div id=\"uc-text\"><p class=\"uc-warning-caption\">Google Drive can't scan this file for viruses.</p><p class=\"uc-warning-subcaption\">We are experiencing technical difficulties. Would you still like to download this file? <span class=\"uc-name-size\"><a href=\"/open?id=1vicMzEfrLeg_0b6ulfPnfD8Oia9vdR-0\">apartments_for_rent_classified_100K.csv</a> (97M)</span></p><form id=\"download-form\" action=\"https://drive.google.com/uc?id=1vicMzEfrLeg_0b6ulfPnfD8Oia9vdR-0&amp  \\\n",
              "count                                                   0                                                                                                                                                                                                                                                                                                                                                                                                                                                                                                                                                                                                                                                                                                                                                                                              \n",
              "unique                                                  0                                                                                                                                                                                                                                                                                                                                                                                                                                                                                                                                                                                                                                                                                                                                                                                              \n",
              "top                                                   NaN                                                                                                                                                                                                                                                                                                                                                                                                                                                                                                                                                                                                                                                                                                                                                                                              \n",
              "freq                                                  NaN                                                                                                                                                                                                                                                                                                                                                                                                                                                                                                                                                                                                                                                                                                                                                                                              \n",
              "\n",
              "       confirm=t&amp  \\\n",
              "count              0   \n",
              "unique             0   \n",
              "top              NaN   \n",
              "freq             NaN   \n",
              "\n",
              "       uuid=f2ef9515-c37d-4f71-9b91-26dd9065a4a5\" method=\"post\"><input type=\"submit\" id=\"uc-download-link\" class=\"goog-inline-block jfk-button jfk-button-action\" value=\"Download anyway\"/></form></div></div><div class=\"uc-footer\"><hr class=\"uc-footer-divider\"></div></body></html>  \n",
              "count                                                   0                                                                                                                                                                                                                                \n",
              "unique                                                  0                                                                                                                                                                                                                                \n",
              "top                                                   NaN                                                                                                                                                                                                                                \n",
              "freq                                                  NaN                                                                                                                                                                                                                                \n",
              "\n",
              "[4 rows x 28 columns]"
            ],
            "text/html": [
              "\n",
              "  <div id=\"df-cebc2c1c-f5a0-46ca-be88-2b5996de4871\" class=\"colab-df-container\">\n",
              "    <div>\n",
              "<style scoped>\n",
              "    .dataframe tbody tr th:only-of-type {\n",
              "        vertical-align: middle;\n",
              "    }\n",
              "\n",
              "    .dataframe tbody tr th {\n",
              "        vertical-align: top;\n",
              "    }\n",
              "\n",
              "    .dataframe thead th {\n",
              "        text-align: right;\n",
              "    }\n",
              "</style>\n",
              "<table border=\"1\" class=\"dataframe\">\n",
              "  <thead>\n",
              "    <tr style=\"text-align: right;\">\n",
              "      <th></th>\n",
              "      <th>&lt;!DOCTYPE html&gt;&lt;html&gt;&lt;head&gt;&lt;title&gt;Google Drive - Virus scan warning&lt;/title&gt;&lt;meta http-equiv=\"content-type\" content=\"text/html</th>\n",
              "      <th>charset=utf-8\"/&gt;&lt;style nonce=\"qUSyvEpz_q4N6gGYSSGtKA\"&gt;.goog-link-button{position:relative</th>\n",
              "      <th>color:#15c</th>\n",
              "      <th>text-decoration:underline</th>\n",
              "      <th>cursor:pointer}.goog-link-button-disabled{color:#ccc</th>\n",
              "      <th>text-decoration:none</th>\n",
              "      <th>cursor:default}body{color:#222</th>\n",
              "      <th>font:normal 13px/1.4 arial,sans-serif</th>\n",
              "      <th>margin:0}.grecaptcha-badge{visibility:hidden}.uc-main{padding-top:50px</th>\n",
              "      <th>text-align:center}#uc-dl-icon{display:inline-block</th>\n",
              "      <th>...</th>\n",
              "      <th>text-decoration:none}.uc-footer{color:#777</th>\n",
              "      <th>font-size:11px</th>\n",
              "      <th>padding-bottom:5ex</th>\n",
              "      <th>padding-top:5ex</th>\n",
              "      <th>text-align:center}.uc-footer a{color:#15c}.uc-footer a:visited{color:#61c}.uc-footer a:active{color:#d14836}.uc-footer-divider{color:#ccc</th>\n",
              "      <th>width:100%}.goog-inline-block{position:relative</th>\n",
              "      <th>display:-moz-inline-box</th>\n",
              "      <th>display:inline-block}* html .goog-inline-block{display:inline}*:first-child+html .goog-inline-block{display:inline}sentinel{}&lt;/style&gt;&lt;link rel=\"icon\" href=\"//ssl.gstatic.com/docs/doclist/images/drive_2022q3_32dp.png\"/&gt;&lt;/head&gt;&lt;body&gt;&lt;div class=\"uc-main\"&gt;&lt;div id=\"uc-dl-icon\" class=\"image-container\"&gt;&lt;div class=\"drive-sprite-aux-download-file\"&gt;&lt;/div&gt;&lt;/div&gt;&lt;div id=\"uc-text\"&gt;&lt;p class=\"uc-warning-caption\"&gt;Google Drive can't scan this file for viruses.&lt;/p&gt;&lt;p class=\"uc-warning-subcaption\"&gt;We are experiencing technical difficulties. Would you still like to download this file? &lt;span class=\"uc-name-size\"&gt;&lt;a href=\"/open?id=1vicMzEfrLeg_0b6ulfPnfD8Oia9vdR-0\"&gt;apartments_for_rent_classified_100K.csv&lt;/a&gt; (97M)&lt;/span&gt;&lt;/p&gt;&lt;form id=\"download-form\" action=\"https://drive.google.com/uc?id=1vicMzEfrLeg_0b6ulfPnfD8Oia9vdR-0&amp;amp</th>\n",
              "      <th>confirm=t&amp;amp</th>\n",
              "      <th>uuid=f2ef9515-c37d-4f71-9b91-26dd9065a4a5\" method=\"post\"&gt;&lt;input type=\"submit\" id=\"uc-download-link\" class=\"goog-inline-block jfk-button jfk-button-action\" value=\"Download anyway\"/&gt;&lt;/form&gt;&lt;/div&gt;&lt;/div&gt;&lt;div class=\"uc-footer\"&gt;&lt;hr class=\"uc-footer-divider\"&gt;&lt;/div&gt;&lt;/body&gt;&lt;/html&gt;</th>\n",
              "    </tr>\n",
              "  </thead>\n",
              "  <tbody>\n",
              "    <tr>\n",
              "      <th>count</th>\n",
              "      <td>0</td>\n",
              "      <td>0</td>\n",
              "      <td>0</td>\n",
              "      <td>0</td>\n",
              "      <td>0</td>\n",
              "      <td>0</td>\n",
              "      <td>0</td>\n",
              "      <td>0</td>\n",
              "      <td>0</td>\n",
              "      <td>0</td>\n",
              "      <td>...</td>\n",
              "      <td>0</td>\n",
              "      <td>0</td>\n",
              "      <td>0</td>\n",
              "      <td>0</td>\n",
              "      <td>0</td>\n",
              "      <td>0</td>\n",
              "      <td>0</td>\n",
              "      <td>0</td>\n",
              "      <td>0</td>\n",
              "      <td>0</td>\n",
              "    </tr>\n",
              "    <tr>\n",
              "      <th>unique</th>\n",
              "      <td>0</td>\n",
              "      <td>0</td>\n",
              "      <td>0</td>\n",
              "      <td>0</td>\n",
              "      <td>0</td>\n",
              "      <td>0</td>\n",
              "      <td>0</td>\n",
              "      <td>0</td>\n",
              "      <td>0</td>\n",
              "      <td>0</td>\n",
              "      <td>...</td>\n",
              "      <td>0</td>\n",
              "      <td>0</td>\n",
              "      <td>0</td>\n",
              "      <td>0</td>\n",
              "      <td>0</td>\n",
              "      <td>0</td>\n",
              "      <td>0</td>\n",
              "      <td>0</td>\n",
              "      <td>0</td>\n",
              "      <td>0</td>\n",
              "    </tr>\n",
              "    <tr>\n",
              "      <th>top</th>\n",
              "      <td>NaN</td>\n",
              "      <td>NaN</td>\n",
              "      <td>NaN</td>\n",
              "      <td>NaN</td>\n",
              "      <td>NaN</td>\n",
              "      <td>NaN</td>\n",
              "      <td>NaN</td>\n",
              "      <td>NaN</td>\n",
              "      <td>NaN</td>\n",
              "      <td>NaN</td>\n",
              "      <td>...</td>\n",
              "      <td>NaN</td>\n",
              "      <td>NaN</td>\n",
              "      <td>NaN</td>\n",
              "      <td>NaN</td>\n",
              "      <td>NaN</td>\n",
              "      <td>NaN</td>\n",
              "      <td>NaN</td>\n",
              "      <td>NaN</td>\n",
              "      <td>NaN</td>\n",
              "      <td>NaN</td>\n",
              "    </tr>\n",
              "    <tr>\n",
              "      <th>freq</th>\n",
              "      <td>NaN</td>\n",
              "      <td>NaN</td>\n",
              "      <td>NaN</td>\n",
              "      <td>NaN</td>\n",
              "      <td>NaN</td>\n",
              "      <td>NaN</td>\n",
              "      <td>NaN</td>\n",
              "      <td>NaN</td>\n",
              "      <td>NaN</td>\n",
              "      <td>NaN</td>\n",
              "      <td>...</td>\n",
              "      <td>NaN</td>\n",
              "      <td>NaN</td>\n",
              "      <td>NaN</td>\n",
              "      <td>NaN</td>\n",
              "      <td>NaN</td>\n",
              "      <td>NaN</td>\n",
              "      <td>NaN</td>\n",
              "      <td>NaN</td>\n",
              "      <td>NaN</td>\n",
              "      <td>NaN</td>\n",
              "    </tr>\n",
              "  </tbody>\n",
              "</table>\n",
              "<p>4 rows × 28 columns</p>\n",
              "</div>\n",
              "    <div class=\"colab-df-buttons\">\n",
              "\n",
              "  <div class=\"colab-df-container\">\n",
              "    <button class=\"colab-df-convert\" onclick=\"convertToInteractive('df-cebc2c1c-f5a0-46ca-be88-2b5996de4871')\"\n",
              "            title=\"Convert this dataframe to an interactive table.\"\n",
              "            style=\"display:none;\">\n",
              "\n",
              "  <svg xmlns=\"http://www.w3.org/2000/svg\" height=\"24px\" viewBox=\"0 -960 960 960\">\n",
              "    <path d=\"M120-120v-720h720v720H120Zm60-500h600v-160H180v160Zm220 220h160v-160H400v160Zm0 220h160v-160H400v160ZM180-400h160v-160H180v160Zm440 0h160v-160H620v160ZM180-180h160v-160H180v160Zm440 0h160v-160H620v160Z\"/>\n",
              "  </svg>\n",
              "    </button>\n",
              "\n",
              "  <style>\n",
              "    .colab-df-container {\n",
              "      display:flex;\n",
              "      gap: 12px;\n",
              "    }\n",
              "\n",
              "    .colab-df-convert {\n",
              "      background-color: #E8F0FE;\n",
              "      border: none;\n",
              "      border-radius: 50%;\n",
              "      cursor: pointer;\n",
              "      display: none;\n",
              "      fill: #1967D2;\n",
              "      height: 32px;\n",
              "      padding: 0 0 0 0;\n",
              "      width: 32px;\n",
              "    }\n",
              "\n",
              "    .colab-df-convert:hover {\n",
              "      background-color: #E2EBFA;\n",
              "      box-shadow: 0px 1px 2px rgba(60, 64, 67, 0.3), 0px 1px 3px 1px rgba(60, 64, 67, 0.15);\n",
              "      fill: #174EA6;\n",
              "    }\n",
              "\n",
              "    .colab-df-buttons div {\n",
              "      margin-bottom: 4px;\n",
              "    }\n",
              "\n",
              "    [theme=dark] .colab-df-convert {\n",
              "      background-color: #3B4455;\n",
              "      fill: #D2E3FC;\n",
              "    }\n",
              "\n",
              "    [theme=dark] .colab-df-convert:hover {\n",
              "      background-color: #434B5C;\n",
              "      box-shadow: 0px 1px 3px 1px rgba(0, 0, 0, 0.15);\n",
              "      filter: drop-shadow(0px 1px 2px rgba(0, 0, 0, 0.3));\n",
              "      fill: #FFFFFF;\n",
              "    }\n",
              "  </style>\n",
              "\n",
              "    <script>\n",
              "      const buttonEl =\n",
              "        document.querySelector('#df-cebc2c1c-f5a0-46ca-be88-2b5996de4871 button.colab-df-convert');\n",
              "      buttonEl.style.display =\n",
              "        google.colab.kernel.accessAllowed ? 'block' : 'none';\n",
              "\n",
              "      async function convertToInteractive(key) {\n",
              "        const element = document.querySelector('#df-cebc2c1c-f5a0-46ca-be88-2b5996de4871');\n",
              "        const dataTable =\n",
              "          await google.colab.kernel.invokeFunction('convertToInteractive',\n",
              "                                                    [key], {});\n",
              "        if (!dataTable) return;\n",
              "\n",
              "        const docLinkHtml = 'Like what you see? Visit the ' +\n",
              "          '<a target=\"_blank\" href=https://colab.research.google.com/notebooks/data_table.ipynb>data table notebook</a>'\n",
              "          + ' to learn more about interactive tables.';\n",
              "        element.innerHTML = '';\n",
              "        dataTable['output_type'] = 'display_data';\n",
              "        await google.colab.output.renderOutput(dataTable, element);\n",
              "        const docLink = document.createElement('div');\n",
              "        docLink.innerHTML = docLinkHtml;\n",
              "        element.appendChild(docLink);\n",
              "      }\n",
              "    </script>\n",
              "  </div>\n",
              "\n",
              "\n",
              "<div id=\"df-110238fd-48d4-443c-867c-c8de686d95f9\">\n",
              "  <button class=\"colab-df-quickchart\" onclick=\"quickchart('df-110238fd-48d4-443c-867c-c8de686d95f9')\"\n",
              "            title=\"Suggest charts\"\n",
              "            style=\"display:none;\">\n",
              "\n",
              "<svg xmlns=\"http://www.w3.org/2000/svg\" height=\"24px\"viewBox=\"0 0 24 24\"\n",
              "     width=\"24px\">\n",
              "    <g>\n",
              "        <path d=\"M19 3H5c-1.1 0-2 .9-2 2v14c0 1.1.9 2 2 2h14c1.1 0 2-.9 2-2V5c0-1.1-.9-2-2-2zM9 17H7v-7h2v7zm4 0h-2V7h2v10zm4 0h-2v-4h2v4z\"/>\n",
              "    </g>\n",
              "</svg>\n",
              "  </button>\n",
              "\n",
              "<style>\n",
              "  .colab-df-quickchart {\n",
              "      --bg-color: #E8F0FE;\n",
              "      --fill-color: #1967D2;\n",
              "      --hover-bg-color: #E2EBFA;\n",
              "      --hover-fill-color: #174EA6;\n",
              "      --disabled-fill-color: #AAA;\n",
              "      --disabled-bg-color: #DDD;\n",
              "  }\n",
              "\n",
              "  [theme=dark] .colab-df-quickchart {\n",
              "      --bg-color: #3B4455;\n",
              "      --fill-color: #D2E3FC;\n",
              "      --hover-bg-color: #434B5C;\n",
              "      --hover-fill-color: #FFFFFF;\n",
              "      --disabled-bg-color: #3B4455;\n",
              "      --disabled-fill-color: #666;\n",
              "  }\n",
              "\n",
              "  .colab-df-quickchart {\n",
              "    background-color: var(--bg-color);\n",
              "    border: none;\n",
              "    border-radius: 50%;\n",
              "    cursor: pointer;\n",
              "    display: none;\n",
              "    fill: var(--fill-color);\n",
              "    height: 32px;\n",
              "    padding: 0;\n",
              "    width: 32px;\n",
              "  }\n",
              "\n",
              "  .colab-df-quickchart:hover {\n",
              "    background-color: var(--hover-bg-color);\n",
              "    box-shadow: 0 1px 2px rgba(60, 64, 67, 0.3), 0 1px 3px 1px rgba(60, 64, 67, 0.15);\n",
              "    fill: var(--button-hover-fill-color);\n",
              "  }\n",
              "\n",
              "  .colab-df-quickchart-complete:disabled,\n",
              "  .colab-df-quickchart-complete:disabled:hover {\n",
              "    background-color: var(--disabled-bg-color);\n",
              "    fill: var(--disabled-fill-color);\n",
              "    box-shadow: none;\n",
              "  }\n",
              "\n",
              "  .colab-df-spinner {\n",
              "    border: 2px solid var(--fill-color);\n",
              "    border-color: transparent;\n",
              "    border-bottom-color: var(--fill-color);\n",
              "    animation:\n",
              "      spin 1s steps(1) infinite;\n",
              "  }\n",
              "\n",
              "  @keyframes spin {\n",
              "    0% {\n",
              "      border-color: transparent;\n",
              "      border-bottom-color: var(--fill-color);\n",
              "      border-left-color: var(--fill-color);\n",
              "    }\n",
              "    20% {\n",
              "      border-color: transparent;\n",
              "      border-left-color: var(--fill-color);\n",
              "      border-top-color: var(--fill-color);\n",
              "    }\n",
              "    30% {\n",
              "      border-color: transparent;\n",
              "      border-left-color: var(--fill-color);\n",
              "      border-top-color: var(--fill-color);\n",
              "      border-right-color: var(--fill-color);\n",
              "    }\n",
              "    40% {\n",
              "      border-color: transparent;\n",
              "      border-right-color: var(--fill-color);\n",
              "      border-top-color: var(--fill-color);\n",
              "    }\n",
              "    60% {\n",
              "      border-color: transparent;\n",
              "      border-right-color: var(--fill-color);\n",
              "    }\n",
              "    80% {\n",
              "      border-color: transparent;\n",
              "      border-right-color: var(--fill-color);\n",
              "      border-bottom-color: var(--fill-color);\n",
              "    }\n",
              "    90% {\n",
              "      border-color: transparent;\n",
              "      border-bottom-color: var(--fill-color);\n",
              "    }\n",
              "  }\n",
              "</style>\n",
              "\n",
              "  <script>\n",
              "    async function quickchart(key) {\n",
              "      const quickchartButtonEl =\n",
              "        document.querySelector('#' + key + ' button');\n",
              "      quickchartButtonEl.disabled = true;  // To prevent multiple clicks.\n",
              "      quickchartButtonEl.classList.add('colab-df-spinner');\n",
              "      try {\n",
              "        const charts = await google.colab.kernel.invokeFunction(\n",
              "            'suggestCharts', [key], {});\n",
              "      } catch (error) {\n",
              "        console.error('Error during call to suggestCharts:', error);\n",
              "      }\n",
              "      quickchartButtonEl.classList.remove('colab-df-spinner');\n",
              "      quickchartButtonEl.classList.add('colab-df-quickchart-complete');\n",
              "    }\n",
              "    (() => {\n",
              "      let quickchartButtonEl =\n",
              "        document.querySelector('#df-110238fd-48d4-443c-867c-c8de686d95f9 button');\n",
              "      quickchartButtonEl.style.display =\n",
              "        google.colab.kernel.accessAllowed ? 'block' : 'none';\n",
              "    })();\n",
              "  </script>\n",
              "</div>\n",
              "    </div>\n",
              "  </div>\n"
            ]
          },
          "metadata": {},
          "execution_count": 11
        }
      ],
      "source": [
        "df1.describe()"
      ]
    },
    {
      "cell_type": "code",
      "execution_count": null,
      "metadata": {
        "id": "ciheDig8J6M7",
        "colab": {
          "base_uri": "https://localhost:8080/",
          "height": 391
        },
        "outputId": "9b21bed9-c692-4f9a-f151-cff6aa5874cb"
      },
      "outputs": [
        {
          "output_type": "error",
          "ename": "KeyError",
          "evalue": "\"['title'] not found in axis\"",
          "traceback": [
            "\u001b[0;31m---------------------------------------------------------------------------\u001b[0m",
            "\u001b[0;31mKeyError\u001b[0m                                  Traceback (most recent call last)",
            "\u001b[0;32m<ipython-input-12-f1751fe1c6e1>\u001b[0m in \u001b[0;36m<cell line: 2>\u001b[0;34m()\u001b[0m\n\u001b[1;32m      1\u001b[0m \u001b[0;31m#menghapus fitur title, body, id, source, address, cityname, state, dan time\u001b[0m\u001b[0;34m\u001b[0m\u001b[0;34m\u001b[0m\u001b[0m\n\u001b[0;32m----> 2\u001b[0;31m \u001b[0mdf1\u001b[0m \u001b[0;34m=\u001b[0m \u001b[0mdf1\u001b[0m\u001b[0;34m.\u001b[0m\u001b[0mdrop\u001b[0m\u001b[0;34m(\u001b[0m\u001b[0;34m'title'\u001b[0m\u001b[0;34m,\u001b[0m \u001b[0maxis\u001b[0m\u001b[0;34m=\u001b[0m\u001b[0;36m1\u001b[0m\u001b[0;34m)\u001b[0m\u001b[0;34m\u001b[0m\u001b[0;34m\u001b[0m\u001b[0m\n\u001b[0m\u001b[1;32m      3\u001b[0m \u001b[0mdf1\u001b[0m \u001b[0;34m=\u001b[0m \u001b[0mdf1\u001b[0m\u001b[0;34m.\u001b[0m\u001b[0mdrop\u001b[0m\u001b[0;34m(\u001b[0m\u001b[0;34m'body'\u001b[0m\u001b[0;34m,\u001b[0m \u001b[0maxis\u001b[0m\u001b[0;34m=\u001b[0m\u001b[0;36m1\u001b[0m\u001b[0;34m)\u001b[0m\u001b[0;34m\u001b[0m\u001b[0;34m\u001b[0m\u001b[0m\n\u001b[1;32m      4\u001b[0m \u001b[0mdf1\u001b[0m \u001b[0;34m=\u001b[0m \u001b[0mdf1\u001b[0m\u001b[0;34m.\u001b[0m\u001b[0mdrop\u001b[0m\u001b[0;34m(\u001b[0m\u001b[0;34m'id'\u001b[0m\u001b[0;34m,\u001b[0m \u001b[0maxis\u001b[0m\u001b[0;34m=\u001b[0m\u001b[0;36m1\u001b[0m\u001b[0;34m)\u001b[0m\u001b[0;34m\u001b[0m\u001b[0;34m\u001b[0m\u001b[0m\n\u001b[1;32m      5\u001b[0m \u001b[0mdf1\u001b[0m \u001b[0;34m=\u001b[0m \u001b[0mdf1\u001b[0m\u001b[0;34m.\u001b[0m\u001b[0mdrop\u001b[0m\u001b[0;34m(\u001b[0m\u001b[0;34m'source'\u001b[0m\u001b[0;34m,\u001b[0m \u001b[0maxis\u001b[0m\u001b[0;34m=\u001b[0m\u001b[0;36m1\u001b[0m\u001b[0;34m)\u001b[0m\u001b[0;34m\u001b[0m\u001b[0;34m\u001b[0m\u001b[0m\n",
            "\u001b[0;32m/usr/local/lib/python3.10/dist-packages/pandas/util/_decorators.py\u001b[0m in \u001b[0;36mwrapper\u001b[0;34m(*args, **kwargs)\u001b[0m\n\u001b[1;32m    329\u001b[0m                     \u001b[0mstacklevel\u001b[0m\u001b[0;34m=\u001b[0m\u001b[0mfind_stack_level\u001b[0m\u001b[0;34m(\u001b[0m\u001b[0;34m)\u001b[0m\u001b[0;34m,\u001b[0m\u001b[0;34m\u001b[0m\u001b[0;34m\u001b[0m\u001b[0m\n\u001b[1;32m    330\u001b[0m                 )\n\u001b[0;32m--> 331\u001b[0;31m             \u001b[0;32mreturn\u001b[0m \u001b[0mfunc\u001b[0m\u001b[0;34m(\u001b[0m\u001b[0;34m*\u001b[0m\u001b[0margs\u001b[0m\u001b[0;34m,\u001b[0m \u001b[0;34m**\u001b[0m\u001b[0mkwargs\u001b[0m\u001b[0;34m)\u001b[0m\u001b[0;34m\u001b[0m\u001b[0;34m\u001b[0m\u001b[0m\n\u001b[0m\u001b[1;32m    332\u001b[0m \u001b[0;34m\u001b[0m\u001b[0m\n\u001b[1;32m    333\u001b[0m         \u001b[0;31m# error: \"Callable[[VarArg(Any), KwArg(Any)], Any]\" has no\u001b[0m\u001b[0;34m\u001b[0m\u001b[0;34m\u001b[0m\u001b[0m\n",
            "\u001b[0;32m/usr/local/lib/python3.10/dist-packages/pandas/core/frame.py\u001b[0m in \u001b[0;36mdrop\u001b[0;34m(self, labels, axis, index, columns, level, inplace, errors)\u001b[0m\n\u001b[1;32m   5397\u001b[0m                 \u001b[0mweight\u001b[0m  \u001b[0;36m1.0\u001b[0m     \u001b[0;36m0.8\u001b[0m\u001b[0;34m\u001b[0m\u001b[0;34m\u001b[0m\u001b[0m\n\u001b[1;32m   5398\u001b[0m         \"\"\"\n\u001b[0;32m-> 5399\u001b[0;31m         return super().drop(\n\u001b[0m\u001b[1;32m   5400\u001b[0m             \u001b[0mlabels\u001b[0m\u001b[0;34m=\u001b[0m\u001b[0mlabels\u001b[0m\u001b[0;34m,\u001b[0m\u001b[0;34m\u001b[0m\u001b[0;34m\u001b[0m\u001b[0m\n\u001b[1;32m   5401\u001b[0m             \u001b[0maxis\u001b[0m\u001b[0;34m=\u001b[0m\u001b[0maxis\u001b[0m\u001b[0;34m,\u001b[0m\u001b[0;34m\u001b[0m\u001b[0;34m\u001b[0m\u001b[0m\n",
            "\u001b[0;32m/usr/local/lib/python3.10/dist-packages/pandas/util/_decorators.py\u001b[0m in \u001b[0;36mwrapper\u001b[0;34m(*args, **kwargs)\u001b[0m\n\u001b[1;32m    329\u001b[0m                     \u001b[0mstacklevel\u001b[0m\u001b[0;34m=\u001b[0m\u001b[0mfind_stack_level\u001b[0m\u001b[0;34m(\u001b[0m\u001b[0;34m)\u001b[0m\u001b[0;34m,\u001b[0m\u001b[0;34m\u001b[0m\u001b[0;34m\u001b[0m\u001b[0m\n\u001b[1;32m    330\u001b[0m                 )\n\u001b[0;32m--> 331\u001b[0;31m             \u001b[0;32mreturn\u001b[0m \u001b[0mfunc\u001b[0m\u001b[0;34m(\u001b[0m\u001b[0;34m*\u001b[0m\u001b[0margs\u001b[0m\u001b[0;34m,\u001b[0m \u001b[0;34m**\u001b[0m\u001b[0mkwargs\u001b[0m\u001b[0;34m)\u001b[0m\u001b[0;34m\u001b[0m\u001b[0;34m\u001b[0m\u001b[0m\n\u001b[0m\u001b[1;32m    332\u001b[0m \u001b[0;34m\u001b[0m\u001b[0m\n\u001b[1;32m    333\u001b[0m         \u001b[0;31m# error: \"Callable[[VarArg(Any), KwArg(Any)], Any]\" has no\u001b[0m\u001b[0;34m\u001b[0m\u001b[0;34m\u001b[0m\u001b[0m\n",
            "\u001b[0;32m/usr/local/lib/python3.10/dist-packages/pandas/core/generic.py\u001b[0m in \u001b[0;36mdrop\u001b[0;34m(self, labels, axis, index, columns, level, inplace, errors)\u001b[0m\n\u001b[1;32m   4503\u001b[0m         \u001b[0;32mfor\u001b[0m \u001b[0maxis\u001b[0m\u001b[0;34m,\u001b[0m \u001b[0mlabels\u001b[0m \u001b[0;32min\u001b[0m \u001b[0maxes\u001b[0m\u001b[0;34m.\u001b[0m\u001b[0mitems\u001b[0m\u001b[0;34m(\u001b[0m\u001b[0;34m)\u001b[0m\u001b[0;34m:\u001b[0m\u001b[0;34m\u001b[0m\u001b[0;34m\u001b[0m\u001b[0m\n\u001b[1;32m   4504\u001b[0m             \u001b[0;32mif\u001b[0m \u001b[0mlabels\u001b[0m \u001b[0;32mis\u001b[0m \u001b[0;32mnot\u001b[0m \u001b[0;32mNone\u001b[0m\u001b[0;34m:\u001b[0m\u001b[0;34m\u001b[0m\u001b[0;34m\u001b[0m\u001b[0m\n\u001b[0;32m-> 4505\u001b[0;31m                 \u001b[0mobj\u001b[0m \u001b[0;34m=\u001b[0m \u001b[0mobj\u001b[0m\u001b[0;34m.\u001b[0m\u001b[0m_drop_axis\u001b[0m\u001b[0;34m(\u001b[0m\u001b[0mlabels\u001b[0m\u001b[0;34m,\u001b[0m \u001b[0maxis\u001b[0m\u001b[0;34m,\u001b[0m \u001b[0mlevel\u001b[0m\u001b[0;34m=\u001b[0m\u001b[0mlevel\u001b[0m\u001b[0;34m,\u001b[0m \u001b[0merrors\u001b[0m\u001b[0;34m=\u001b[0m\u001b[0merrors\u001b[0m\u001b[0;34m)\u001b[0m\u001b[0;34m\u001b[0m\u001b[0;34m\u001b[0m\u001b[0m\n\u001b[0m\u001b[1;32m   4506\u001b[0m \u001b[0;34m\u001b[0m\u001b[0m\n\u001b[1;32m   4507\u001b[0m         \u001b[0;32mif\u001b[0m \u001b[0minplace\u001b[0m\u001b[0;34m:\u001b[0m\u001b[0;34m\u001b[0m\u001b[0;34m\u001b[0m\u001b[0m\n",
            "\u001b[0;32m/usr/local/lib/python3.10/dist-packages/pandas/core/generic.py\u001b[0m in \u001b[0;36m_drop_axis\u001b[0;34m(self, labels, axis, level, errors, only_slice)\u001b[0m\n\u001b[1;32m   4544\u001b[0m                 \u001b[0mnew_axis\u001b[0m \u001b[0;34m=\u001b[0m \u001b[0maxis\u001b[0m\u001b[0;34m.\u001b[0m\u001b[0mdrop\u001b[0m\u001b[0;34m(\u001b[0m\u001b[0mlabels\u001b[0m\u001b[0;34m,\u001b[0m \u001b[0mlevel\u001b[0m\u001b[0;34m=\u001b[0m\u001b[0mlevel\u001b[0m\u001b[0;34m,\u001b[0m \u001b[0merrors\u001b[0m\u001b[0;34m=\u001b[0m\u001b[0merrors\u001b[0m\u001b[0;34m)\u001b[0m\u001b[0;34m\u001b[0m\u001b[0;34m\u001b[0m\u001b[0m\n\u001b[1;32m   4545\u001b[0m             \u001b[0;32melse\u001b[0m\u001b[0;34m:\u001b[0m\u001b[0;34m\u001b[0m\u001b[0;34m\u001b[0m\u001b[0m\n\u001b[0;32m-> 4546\u001b[0;31m                 \u001b[0mnew_axis\u001b[0m \u001b[0;34m=\u001b[0m \u001b[0maxis\u001b[0m\u001b[0;34m.\u001b[0m\u001b[0mdrop\u001b[0m\u001b[0;34m(\u001b[0m\u001b[0mlabels\u001b[0m\u001b[0;34m,\u001b[0m \u001b[0merrors\u001b[0m\u001b[0;34m=\u001b[0m\u001b[0merrors\u001b[0m\u001b[0;34m)\u001b[0m\u001b[0;34m\u001b[0m\u001b[0;34m\u001b[0m\u001b[0m\n\u001b[0m\u001b[1;32m   4547\u001b[0m             \u001b[0mindexer\u001b[0m \u001b[0;34m=\u001b[0m \u001b[0maxis\u001b[0m\u001b[0;34m.\u001b[0m\u001b[0mget_indexer\u001b[0m\u001b[0;34m(\u001b[0m\u001b[0mnew_axis\u001b[0m\u001b[0;34m)\u001b[0m\u001b[0;34m\u001b[0m\u001b[0;34m\u001b[0m\u001b[0m\n\u001b[1;32m   4548\u001b[0m \u001b[0;34m\u001b[0m\u001b[0m\n",
            "\u001b[0;32m/usr/local/lib/python3.10/dist-packages/pandas/core/indexes/base.py\u001b[0m in \u001b[0;36mdrop\u001b[0;34m(self, labels, errors)\u001b[0m\n\u001b[1;32m   6932\u001b[0m         \u001b[0;32mif\u001b[0m \u001b[0mmask\u001b[0m\u001b[0;34m.\u001b[0m\u001b[0many\u001b[0m\u001b[0;34m(\u001b[0m\u001b[0;34m)\u001b[0m\u001b[0;34m:\u001b[0m\u001b[0;34m\u001b[0m\u001b[0;34m\u001b[0m\u001b[0m\n\u001b[1;32m   6933\u001b[0m             \u001b[0;32mif\u001b[0m \u001b[0merrors\u001b[0m \u001b[0;34m!=\u001b[0m \u001b[0;34m\"ignore\"\u001b[0m\u001b[0;34m:\u001b[0m\u001b[0;34m\u001b[0m\u001b[0;34m\u001b[0m\u001b[0m\n\u001b[0;32m-> 6934\u001b[0;31m                 \u001b[0;32mraise\u001b[0m \u001b[0mKeyError\u001b[0m\u001b[0;34m(\u001b[0m\u001b[0;34mf\"{list(labels[mask])} not found in axis\"\u001b[0m\u001b[0;34m)\u001b[0m\u001b[0;34m\u001b[0m\u001b[0;34m\u001b[0m\u001b[0m\n\u001b[0m\u001b[1;32m   6935\u001b[0m             \u001b[0mindexer\u001b[0m \u001b[0;34m=\u001b[0m \u001b[0mindexer\u001b[0m\u001b[0;34m[\u001b[0m\u001b[0;34m~\u001b[0m\u001b[0mmask\u001b[0m\u001b[0;34m]\u001b[0m\u001b[0;34m\u001b[0m\u001b[0;34m\u001b[0m\u001b[0m\n\u001b[1;32m   6936\u001b[0m         \u001b[0;32mreturn\u001b[0m \u001b[0mself\u001b[0m\u001b[0;34m.\u001b[0m\u001b[0mdelete\u001b[0m\u001b[0;34m(\u001b[0m\u001b[0mindexer\u001b[0m\u001b[0;34m)\u001b[0m\u001b[0;34m\u001b[0m\u001b[0;34m\u001b[0m\u001b[0m\n",
            "\u001b[0;31mKeyError\u001b[0m: \"['title'] not found in axis\""
          ]
        }
      ],
      "source": [
        "#menghapus fitur title, body, id, source, address, cityname, state, dan time\n",
        "df1 = df1.drop('title', axis=1)\n",
        "df1 = df1.drop('body', axis=1)\n",
        "df1 = df1.drop('id', axis=1)\n",
        "df1 = df1.drop('source', axis=1)\n",
        "df1 = df1.drop('address', axis=1)\n",
        "df1 = df1.drop('cityname', axis=1)\n",
        "df1 = df1.drop('state', axis=1)\n",
        "df1 = df1.drop('time', axis=1)"
      ]
    },
    {
      "cell_type": "code",
      "execution_count": null,
      "metadata": {
        "id": "QLXlKCaAJ8gD"
      },
      "outputs": [],
      "source": [
        "#memeriksa fitur currency\n",
        "list_currency = list(df1['currency'])\n",
        "for i in list_currency:\n",
        "  if i != \"USD\":\n",
        "    print(i)"
      ]
    },
    {
      "cell_type": "code",
      "execution_count": null,
      "metadata": {
        "id": "by4ratwhJ-02"
      },
      "outputs": [],
      "source": [
        "#drop currency karena semua dalam USD\n",
        "df1 = df1.drop('currency', axis=1)"
      ]
    },
    {
      "cell_type": "code",
      "execution_count": null,
      "metadata": {
        "id": "1M0DEFBCKB7-"
      },
      "outputs": [],
      "source": [
        "#memeriksa fitur price_type\n",
        "list_price_type = list(df1['price_type'])\n",
        "for i in list_price_type:\n",
        "  if i != \"Monthly\":\n",
        "    print(i)"
      ]
    },
    {
      "cell_type": "code",
      "execution_count": null,
      "metadata": {
        "id": "KhpG9JjRKE47"
      },
      "outputs": [],
      "source": [
        "#drop data yang price_typenya bukan monthly\n",
        "df1 = df1[df1['price_type'] != \"monthly\"]"
      ]
    },
    {
      "cell_type": "code",
      "execution_count": null,
      "metadata": {
        "id": "7XHm6kVqKG1D"
      },
      "outputs": [],
      "source": [
        "#drop fitur price_type\n",
        "df1 = df1.drop('price_type', axis=1)"
      ]
    },
    {
      "cell_type": "code",
      "execution_count": null,
      "metadata": {
        "id": "odXe7ndvKIrL"
      },
      "outputs": [],
      "source": [
        "#memeriksa variansi\n",
        "column_names = list(df1.columns)\n",
        "for i in column_names:\n",
        "  if (df1[i].dtypes!=\"object\"):\n",
        "    print(df1[[i]].var())"
      ]
    },
    {
      "cell_type": "code",
      "execution_count": null,
      "metadata": {
        "id": "WWUkSpP2KJM6"
      },
      "outputs": [],
      "source": [
        "#memeriksa korelasi fitur\n",
        "correlation = df1.corr()\n",
        "print(correlation['square_feet'])"
      ]
    },
    {
      "cell_type": "code",
      "execution_count": null,
      "metadata": {
        "id": "7yS9QR_eKNW3"
      },
      "outputs": [],
      "source": [
        "#drop fitur latitude dan longitude karena korelasi kecil\n",
        "df1 = df1.drop('latitude', axis=1)\n",
        "df1 = df1.drop('longitude', axis=1)"
      ]
    },
    {
      "cell_type": "code",
      "execution_count": null,
      "metadata": {
        "id": "HHg5vwTeKQIA"
      },
      "outputs": [],
      "source": [
        "#drop fitur price_display\n",
        "df1 = df1.drop('price_display', axis=1)"
      ]
    },
    {
      "cell_type": "code",
      "execution_count": null,
      "metadata": {
        "id": "9imCTiWoKR0I"
      },
      "outputs": [],
      "source": [
        "i = 0\n",
        "for i in range(len(df1)) :\n",
        "  if df1.loc[i, 'fee'] == \"No\" :\n",
        "    df1.loc[i, 'fee'] = 0\n",
        "  if df1.loc[i, 'fee'] == \"Yes\":\n",
        "    df1.loc[i, 'fee'] = 1\n",
        "df1\n"
      ]
    },
    {
      "cell_type": "code",
      "execution_count": null,
      "metadata": {
        "id": "GsjkXIUiKTY4"
      },
      "outputs": [],
      "source": [
        "#drop fee = nan\n",
        "df1 = df1[df1['fee'] == 0]\n",
        "df1"
      ]
    },
    {
      "cell_type": "code",
      "execution_count": null,
      "metadata": {
        "id": "SVAvrFJbKVa6"
      },
      "outputs": [],
      "source": [
        "#mereplace NaN price\n",
        "df_med = df1['price'].median()\n",
        "df1['price'] = df1['price'].fillna(df_med)\n",
        "df1"
      ]
    },
    {
      "cell_type": "code",
      "execution_count": null,
      "metadata": {
        "id": "a5VcYqFEKXsw"
      },
      "outputs": [],
      "source": [
        "#mereplace NaN square_feet\n",
        "df_med = df1['square_feet'].median()\n",
        "df1['square_feet'] = df1['square_feet'].fillna(df_med)\n",
        "df1"
      ]
    },
    {
      "cell_type": "code",
      "execution_count": null,
      "metadata": {
        "id": "ZSFj6sF5Kab3"
      },
      "outputs": [],
      "source": [
        "#mereplace NaN bathrooms\n",
        "df_med = df1['bathrooms'].median()\n",
        "df1['bathrooms'] = df1['bathrooms'].fillna(df_med)\n",
        "df1"
      ]
    },
    {
      "cell_type": "code",
      "execution_count": null,
      "metadata": {
        "id": "uNY4cATsKep_"
      },
      "outputs": [],
      "source": [
        "#mereplace NaN bedrooms\n",
        "df_med = df1['bedrooms'].median()\n",
        "df1['bedrooms'] = df1['bedrooms'].fillna(df_med)\n",
        "df1"
      ]
    },
    {
      "cell_type": "code",
      "execution_count": null,
      "metadata": {
        "id": "DVpL1l9mKg-U"
      },
      "outputs": [],
      "source": [
        "#drop category karena semua data memiliki nilai yang sama\n",
        "df1 = df1.drop('category', axis=1)"
      ]
    },
    {
      "cell_type": "code",
      "execution_count": null,
      "metadata": {
        "id": "EebT0CseKjaF"
      },
      "outputs": [],
      "source": [
        "list_amenities = list(df1['amenities'])\n",
        "print(list_amenities)"
      ]
    },
    {
      "cell_type": "code",
      "execution_count": null,
      "metadata": {
        "id": "3G2-jgFZKlZQ"
      },
      "outputs": [],
      "source": [
        "#drop column amenities karena terlalu unik\n",
        "df1 = df1.drop('amenities', axis=1)\n",
        "df1"
      ]
    },
    {
      "cell_type": "code",
      "execution_count": null,
      "metadata": {
        "id": "i8NNgQ35KlTm"
      },
      "outputs": [],
      "source": [
        "df1.reset_index(drop=True, inplace=True)"
      ]
    },
    {
      "cell_type": "code",
      "execution_count": null,
      "metadata": {
        "id": "oLWFPnh8L7Yz"
      },
      "outputs": [],
      "source": [
        "#mengubah data di kolom pets_allowed\n",
        "i = 0\n",
        "for i in range(len(df1)) :\n",
        "  if df1.loc[i, 'pets_allowed'] == \"None\" :\n",
        "    df1.loc[i, 'pets_allowed'] = 0\n",
        "  elif df1.loc[i, 'pets_allowed'] == \"Cats\" :\n",
        "    df1.loc[i, 'pets_allowed'] = 1\n",
        "  elif df1.loc[i, 'pets_allowed'] == \"Dogs\" :\n",
        "    df1.loc[i, 'pets_allowed'] = 2\n",
        "  elif df1.loc[i, 'pets_allowed'] == \"Cats,Dogs\" :\n",
        "    df1.loc[i, 'pets_allowed'] = 3\n"
      ]
    },
    {
      "cell_type": "code",
      "execution_count": null,
      "metadata": {
        "id": "_8V7bXxBL9TQ"
      },
      "outputs": [],
      "source": [
        "#mengganti value nan dengan modus\n",
        "df1['pets_allowed'] = df1['pets_allowed'].fillna(df1['pets_allowed'].mode()[0])"
      ]
    },
    {
      "cell_type": "code",
      "execution_count": null,
      "metadata": {
        "id": "NvMaIJB-MBw-"
      },
      "outputs": [],
      "source": [
        "list_photo = list(df1['has_photo'])\n",
        "for i in list_photo:\n",
        "  if i != \"Thumbnail\" and i != \"No\" and i!= \"Yes\":\n",
        "    print(i)"
      ]
    },
    {
      "cell_type": "code",
      "execution_count": null,
      "metadata": {
        "id": "m-XF2Ld1MCVu"
      },
      "outputs": [],
      "source": [
        "#mengubah data di kolom has_photo\n",
        "i = 0\n",
        "for i in range(len(df1)) :\n",
        "  if df1.loc[i, 'has_photo'] == \"No\" :\n",
        "    df1.loc[i, 'has_photo'] = 0\n",
        "  elif df1.loc[i, 'has_photo'] == \"Thumbnail\" :\n",
        "    df1.loc[i, 'has_photo'] = 1\n",
        "  elif df1.loc[i, 'has_photo'] == \"Yes\" :\n",
        "    df1.loc[i, 'has_photo'] = 2"
      ]
    },
    {
      "cell_type": "code",
      "execution_count": null,
      "metadata": {
        "id": "USwzrGjkMEGv"
      },
      "outputs": [],
      "source": [
        "df1"
      ]
    },
    {
      "cell_type": "code",
      "execution_count": null,
      "metadata": {
        "id": "p1cvISK8Nj0G"
      },
      "outputs": [],
      "source": [
        "#Mencari minimum dan maximum dari kolom square_feet\n",
        "min = df1['square_feet'].min()\n",
        "max = df1['square_feet'].max()\n",
        "print(min,max)"
      ]
    },
    {
      "cell_type": "code",
      "execution_count": null,
      "metadata": {
        "id": "Q4vvCCTUOMNU"
      },
      "outputs": [],
      "source": [
        "#klasifikasi square_feet menjadi kecil = 0, besar = 1\n",
        "for i in range(len(df1)):\n",
        "    if (df1.loc[i, 'square_feet'] >= 101) and (df1.loc[i, 'square_feet'] <= 900):\n",
        "        df1.loc[i, 'square_feet'] = 0\n",
        "    elif (df1.loc[i, 'square_feet'] >= 901) and (df1.loc[i, 'square_feet'] <= 50000):\n",
        "        df1.loc[i, 'square_feet'] = 1"
      ]
    },
    {
      "cell_type": "code",
      "execution_count": null,
      "metadata": {
        "id": "lsMaygLNLXwe"
      },
      "outputs": [],
      "source": [
        "df1"
      ]
    },
    {
      "cell_type": "code",
      "execution_count": null,
      "metadata": {
        "id": "3UI1k1F1T-Hv"
      },
      "outputs": [],
      "source": [
        "#total\n",
        "sum_s = 0\n",
        "sum_l = 0\n",
        "for i in range(len(df1)):\n",
        "  if(df1.loc[i,'square_feet']== 0):\n",
        "    sum_s +=1\n",
        "  elif(df1.loc[i, 'square_feet']== 1):\n",
        "    sum_l +=1\n",
        "print(\"Sum small :\", sum_s)\n",
        "print(\"Sum large :\", sum_l)"
      ]
    },
    {
      "cell_type": "code",
      "execution_count": null,
      "metadata": {
        "id": "VY3bmjJMbnES"
      },
      "outputs": [],
      "source": [
        "df1 = df1[df1['pets_allowed'] != 'Cats,Dogs,None']\n",
        "df1"
      ]
    },
    {
      "cell_type": "markdown",
      "metadata": {
        "id": "WEBBP0SeWoo0"
      },
      "source": [
        "### **Random Forest**"
      ]
    },
    {
      "cell_type": "code",
      "execution_count": null,
      "metadata": {
        "id": "ofsQgi_1-9TX"
      },
      "outputs": [],
      "source": [
        "# Assuming X and y are your features and labels\n",
        "X = df1.drop('square_feet', axis=1)\n",
        "y = df1['square_feet']"
      ]
    },
    {
      "cell_type": "code",
      "execution_count": null,
      "metadata": {
        "id": "EMMSXri_-8aa"
      },
      "outputs": [],
      "source": [
        "# Model dasar\n",
        "# Standarisasi dataset\n",
        "PredictorScaler = StandardScaler()\n",
        "TargetVarScaler = StandardScaler()\n",
        "\n",
        "# Menyimpan objek yang fit\n",
        "PredictorScalerFit = PredictorScaler.fit(X)\n",
        "Y_reshape = y.values.reshape(1,-1)\n",
        "TargetVarScalerFit = TargetVarScaler.fit(Y_reshape)\n",
        "\n",
        "# Membuat standarisasi X dan Y\n",
        "X=PredictorScalerFit.transform(X)\n",
        "Y=TargetVarScalerFit.transform(Y_reshape)\n",
        "X"
      ]
    },
    {
      "cell_type": "code",
      "execution_count": null,
      "metadata": {
        "id": "WS5167rSBviA"
      },
      "outputs": [],
      "source": [
        "# Split the data into training, testing, dan validation\n",
        "X_temp, X_val, y_temp, y_val = train_test_split(X, y, test_size = 0.2, random_state = 42)\n",
        "X_trn, X_tst, y_trn, y_tst = train_test_split(X_temp, y_temp, test_size = 0.25, random_state = 42)\n"
      ]
    },
    {
      "cell_type": "code",
      "execution_count": null,
      "metadata": {
        "id": "DlIGjjXS9Ael"
      },
      "outputs": [],
      "source": [
        "# Cek shape X dan Y\n",
        "print(X_trn.shape)\n",
        "print(y_trn.shape)\n",
        "print(X_tst.shape)\n",
        "print(y_tst.shape)\n",
        "print(X_val.shape)\n",
        "print(y_val.shape)"
      ]
    },
    {
      "cell_type": "code",
      "execution_count": null,
      "metadata": {
        "id": "ENaTTtbkX8Ll"
      },
      "outputs": [],
      "source": [
        "#mencari tahu kombinasi jumlah leaf nodes dan n_estimator untuk dataset kami\n",
        "n_estimator_range = range(50, 101, 1)\n",
        "\n",
        "from sklearn.model_selection import GridSearchCV\n",
        "\n",
        "# Parameter grid\n",
        "param_grid = {\n",
        "    'n_estimators': list(n_estimator_range),\n",
        "    'max_leaf_nodes': range(2, 9),  # Sesuai dengan max_leaf_nodes yang telah ditentukan\n",
        "}\n",
        "\n",
        "# Inisialisasi model Random Forest Classifier\n",
        "rf_clf = RandomForestClassifier(n_jobs=-1, random_state = 42)\n",
        "\n",
        "# Inisialisasi GridSearchCV\n",
        "grid_search = GridSearchCV(rf_clf, param_grid, cv=5, scoring='accuracy')  # Ubah scoring sesuai dengan metrik yang diinginkan\n",
        "\n",
        "# Melakukan pencarian parameter terbaik\n",
        "grid_search.fit(X_trn, y_trn)\n",
        "\n",
        "# Mendapatkan parameter terbaik\n",
        "best_params = grid_search.best_params_\n",
        "print(\"Best Parameters:\", best_params)\n",
        "\n",
        "# Mendapatkan error pada data latih dan data uji dengan model terbaik\n",
        "best_rf_clf = grid_search.best_estimator_\n",
        "best_rf_trn_error = 1 - accuracy_score(y_trn, best_rf_clf.predict(X_trn))\n",
        "best_rf_tst_error = 1 - accuracy_score(y_tst, best_rf_clf.predict(X_tst))\n",
        "\n",
        "print(\"Train Error (Best Model):\", best_rf_trn_error)\n",
        "print(\"Test Error (Best Model):\", best_rf_tst_error)\n",
        "\n"
      ]
    },
    {
      "cell_type": "code",
      "execution_count": null,
      "metadata": {
        "id": "vY-olY2WV9vG"
      },
      "outputs": [],
      "source": [
        "# Ensure y contains integer labels for classification\n",
        "y = y.astype(int)\n",
        "\n",
        "\n",
        "# Create a RandomForestClassifier 1\n",
        "rf_ens = RandomForestClassifier(n_estimators=100, max_depth=8,\n",
        "                                oob_score=True, n_jobs=-1, random_state=42)\n",
        "# Create a RandomForestClassifier 2\n",
        "rf_ens_2 = RandomForestClassifier(n_estimators=90, max_depth=8,\n",
        "                                oob_score=True, n_jobs=-1, random_state=42)\n",
        "\n",
        "# Create a RandomForestClassifier 3\n",
        "rf_ens_3 = RandomForestClassifier(n_estimators=100, max_depth=15,\n",
        "                                oob_score=True, n_jobs=-1, random_state=42)\n",
        "\n",
        "# Create a RandomForestClassifier 4\n",
        "rf_ens_4 = RandomForestClassifier(n_estimators=100, max_depth=2,\n",
        "                                oob_score=True, n_jobs=-1, random_state=42)\n",
        "\n",
        "# Fit the models on the training data\n",
        "rf_ens.fit(X_trn, y_trn)\n",
        "rf_ens_2.fit(X_trn, y_trn)\n",
        "rf_ens_3.fit(X_trn, y_trn)\n",
        "rf_ens_4.fit(X_trn, y_trn)\n",
        "\n",
        "# Check the out-of-bag score after fitting\n",
        "oob_score = rf_ens.oob_score_\n",
        "print(f\"Out-of-Bag Score 1: {oob_score}\")\n",
        "oob_score_2 = rf_ens_2.oob_score_\n",
        "print(f\"Out-of-Bag Score 2: {oob_score_2}\")\n",
        "oob_score_3 = rf_ens_3.oob_score_\n",
        "print(f\"Out-of-Bag Score 3: {oob_score_3}\")\n",
        "oob_score_4 = rf_ens_4.oob_score_\n",
        "print(f\"Out-of-Bag Score 4: {oob_score_4}\")\n",
        "\n",
        "# Make predictions on the best case of test data\n",
        "ypred = rf_ens.predict(X_tst)\n",
        "ypred_2 = rf_ens_2.predict(X_tst)\n",
        "ypred_3 = rf_ens_3.predict(X_tst)\n",
        "ypred_4 = rf_ens_4.predict(X_tst)"
      ]
    },
    {
      "cell_type": "code",
      "execution_count": null,
      "metadata": {
        "id": "qqoS14mO_2Xz"
      },
      "outputs": [],
      "source": [
        "from sklearn.metrics import confusion_matrix, classification_report\n",
        "\n",
        "# Confusion matrix and classification report for Model 1\n",
        "cm_1 = confusion_matrix(y_tst, ypred)\n",
        "cr_1 = classification_report(y_tst, ypred)\n",
        "\n",
        "# Confusion matrix and classification report for Model 2\n",
        "cm_2 = confusion_matrix(y_tst, ypred_2)\n",
        "cr_2 = classification_report(y_tst, ypred_2)\n",
        "\n",
        "# Confusion matrix and classification report for Model 3\n",
        "cm_3 = confusion_matrix(y_tst, ypred_3)\n",
        "cr_3 = classification_report(y_tst, ypred_3)\n",
        "\n",
        "# Confusion matrix and classification report for Model 4\n",
        "cm_4 = confusion_matrix(y_tst, ypred_4)\n",
        "cr_4 = classification_report(y_tst, ypred_4)\n",
        "\n",
        "# Display results for Model 1\n",
        "print(\"Model 1 - Confusion Matrix:\")\n",
        "print(cm_1)\n",
        "print(\"\\nModel 1 - Classification Report:\")\n",
        "print(cr_1)\n",
        "\n",
        "# Display results for Model 2\n",
        "print(\"\\nModel 2 - Confusion Matrix:\")\n",
        "print(cm_2)\n",
        "print(\"\\nModel 2 - Classification Report:\")\n",
        "print(cr_2)\n",
        "\n",
        "# Display results for Model 3\n",
        "print(\"\\nModel 3 - Confusion Matrix:\")\n",
        "print(cm_3)\n",
        "print(\"\\nModel 3 - Classification Report:\")\n",
        "print(cr_3)\n",
        "\n",
        "# Display results for Model 4\n",
        "print(\"\\nModel 4 - Confusion Matrix:\")\n",
        "print(cm_4)\n",
        "print(\"\\nModel 4 - Classification Report:\")\n",
        "print(cr_4)"
      ]
    },
    {
      "cell_type": "code",
      "execution_count": null,
      "metadata": {
        "id": "nJ8YdjNRinmC"
      },
      "outputs": [],
      "source": [
        "train_data_score_RF = rf_ens_2.score(X_trn, y_trn)\n",
        "test_data_score_RF = rf_ens_2.score(X_tst, y_tst)\n",
        "validation_data_score_RF = rf_ens_2.score(X_val, y_val)\n",
        "\n",
        "print(\"Score of the decision tree in training data is \" + str(train_data_score_RF))\n",
        "print(\"Score of the decision tree in test data is \" + str(test_data_score_RF))\n",
        "print(\"Score of the decision tree in validation data is \" + str(validation_data_score_RF))"
      ]
    },
    {
      "cell_type": "code",
      "execution_count": null,
      "metadata": {
        "id": "N1uG9QlDrqXW"
      },
      "outputs": [],
      "source": [
        "from sklearn.metrics import confusion_matrix, classification_report\n",
        "\n",
        "# Membuat prediksi menggunakan model terbaik\n",
        "y_pred_val = rf_ens_2.predict(X_val)\n",
        "\n",
        "# Matriks Konfusi\n",
        "conf_matrix = confusion_matrix(y_val, y_pred_val)\n",
        "print(\"Confusion Matrix:\")\n",
        "print(conf_matrix)\n",
        "\n",
        "# Laporan Klasifikasi\n",
        "class_report = classification_report(y_val, y_pred_val)\n",
        "print(\"\\nClassification Report:\")\n",
        "print(class_report)\n"
      ]
    },
    {
      "cell_type": "markdown",
      "metadata": {
        "id": "q_bqYYd_qm7V"
      },
      "source": [
        "## **Hasil dan Analisis**\n",
        "\n",
        "Hasil analisis dari implementasi kode di atas menunjukkan bahwa penggunaan metode Random Forest dalam mengklasifikasikan luas apartemen pada dataset tersebut memberikan performa yang baik. Evaluasi model, seperti skor out-of-bag, matriks kebingungan, dan laporan klasifikasi, memberikan pemahaman mendalam tentang kemampuan model dalam memprediksi luas apartemen berdasarkan fitur-fitur yang ada.\n",
        "\n",
        "Dengan skor out-of-bag, kita dapat menilai seberapa baik model dapat melakukan prediksi pada data yang tidak digunakan dalam pelatihan. Matriks kebingungan memberikan informasi tentang seberapa baik model dapat mengklasifikasikan apartemen pada setiap kategori luasnya. Laporan klasifikasi memberikan insight lebih lanjut tentang presisi, recall, dan F1-score untuk setiap kategori.\n",
        "\n",
        "Secara keseluruhan, hasil evaluasi performa pada set data latih, uji, dan validasi menunjukkan bahwa model Random Forest memiliki kecenderungan yang baik dalam mengklasifikasikan luas apartemen pada dataset ini."
      ]
    },
    {
      "cell_type": "markdown",
      "metadata": {
        "id": "GMH7IVSrqp1t"
      },
      "source": [
        "## **Kesimpulan**\n",
        "\n",
        "Berdasarkan hasil analisis kami, dapat disimpulkan bahwa analisis pada kode di atas mencakup serangkaian langkah dalam pengelolaan dan pembersihan data dari dataset yang berisi informasi tentang apartemen yang sedang disewakan. Langkah-langkah tersebut melibatkan penghapusan fitur yang tidak relevan, penanganan nilai-nilai yang hilang, serta transformasi beberapa fitur untuk persiapan data. Metode Random Forest diterapkan sebagai model klasifikasi utama untuk memprediksi kategori luas apartemen berdasarkan fitur-fitur yang tersedia. Evaluasi model mencakup pengukuran skor out-of-bag, matriks kebingungan, dan laporan klasifikasi untuk beberapa konfigurasi model. Selanjutnya, dilakukan evaluasi performa model pada data latih, uji, dan validasi untuk memastikan kehandalan model dalam mengklasifikasikan luas apartemen."
      ]
    }
  ],
  "metadata": {
    "colab": {
      "provenance": []
    },
    "kernelspec": {
      "display_name": "Python 3",
      "name": "python3"
    },
    "language_info": {
      "name": "python"
    }
  },
  "nbformat": 4,
  "nbformat_minor": 0
}